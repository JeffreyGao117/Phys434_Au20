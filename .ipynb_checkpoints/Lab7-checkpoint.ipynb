{
 "cells": [
  {
   "cell_type": "markdown",
   "metadata": {},
   "source": [
    "# Lab 7 - Event Selection Optimization\n",
    "## Part 1\n",
    "High pT"
   ]
  },
  {
   "cell_type": "code",
   "execution_count": 6,
   "metadata": {},
   "outputs": [
    {
     "data": {
      "text/plain": [
       "Index(['pt', 'eta', 'phi', 'mass', 'ee2', 'ee3', 'd2', 'angularity', 't1',\n",
       "       't2', 't3', 't21', 't32', 'KtDeltaR'],\n",
       "      dtype='object')"
      ]
     },
     "execution_count": 6,
     "metadata": {},
     "output_type": "execute_result"
    }
   ],
   "source": [
    "import pickle\n",
    "\n",
    "# open the file of interest, and use pickle loading\n",
    "bkgd = pickle.load(open(\"qcd_100000_pt_1000_1200.pkl\",'rb'))\n",
    "signal = pickle.load(open(\"higgs_100000_pt_1000_1200.pkl\",'rb'))\n",
    "\n",
    "# list all keys of the files\n",
    "bkgd.keys()\n",
    "signal.keys()"
   ]
  },
  {
   "cell_type": "code",
   "execution_count": 110,
   "metadata": {},
   "outputs": [
    {
     "data": {
      "image/png": "[encoded data removed]",
      "text/plain": [
       "<Figure size 720x360 with 1 Axes>"
      ]
     },
     "metadata": {
      "needs_background": "light"
     },
     "output_type": "display_data"
    },
    {
     "name": "stdout",
     "output_type": "stream",
     "text": [
      "Significance:  0.09000000000000341\n",
      "\n",
      "Expected significance:  1.118033988749895\n"
     ]
    }
   ],
   "source": [
    "import matplotlib.pyplot as plt\n",
    "import numpy as np\n",
    "from scipy import stats\n",
    "\n",
    "qcd_mass = bkgd['mass']\n",
    "signal_mass = signal['mass']\n",
    "plt.figure(figsize=(10,5))\n",
    "plt.hist([qcd_mass, signal_mass], bins=60, stacked=True, density=True)\n",
    "plt.xlabel('mass (GeV)')\n",
    "\n",
    "# Expected signifcance\n",
    "both = qcd_mass.append(signal_mass)\n",
    "mu = np.mean(both)\n",
    "model = stats.poisson(mu)\n",
    "x = np.arange(0, 500, 5)\n",
    "plt.step(x, model.pmf(x), 'c')\n",
    "plt.show()\n",
    "# print(\"Significance: \", model.cdf(5))\n",
    "print(\"Significance: \", 125.09 - model.ppf(model.cdf(125.09)))\n",
    "\n",
    "# compare to N-Higgs/sqrt(N-qcd) from spec\n",
    "print(\"\\nExpected significance: \", 50/np.sqrt(2000))"
   ]
  },
  {
   "cell_type": "markdown",
   "metadata": {},
   "source": [
    "The measured significance is much lower than the calculated significance. \n",
    "\n",
    "## Part 2"
   ]
  },
  {
   "cell_type": "code",
   "execution_count": 123,
   "metadata": {},
   "outputs": [
    {
     "name": "stdout",
     "output_type": "stream",
     "text": [
      "Largest significance:  0.27422022163384\n",
      "Upper cut:  296.96848183011264\n",
      "Lower cut:  146.9684818301126\n"
     ]
    }
   ],
   "source": [
    "# Mass cuts\n",
    "# - making symmetric cuts of increasing widths of 20 GeV up to +-580 GeV from the mean of signal+bkgd\n",
    "\n",
    "mean = np.mean(both)\n",
    "significances = []\n",
    "for i in np.arange(1,30):\n",
    "    lower = mean - i*5\n",
    "    upper = mean + i*5\n",
    "    filter = [n for n in both if n > lower and n < upper]\n",
    "    mu = np.mean(filter)\n",
    "    sig = stats.poisson.cdf(125.09, mu)\n",
    "    significances.append([sig, lower, upper])\n",
    "print(\"Largest significance: \", np.max(significances, axis=0)[0])\n",
    "print(\"Upper cut: \", np.max(significances, axis=0)[2])\n",
    "print(\"Lower cut: \", np.max(significances, axis=0)[1])"
   ]
  },
  {
   "cell_type": "markdown",
   "metadata": {},
   "source": [
    "## Part 3"
   ]
  },
  {
   "cell_type": "code",
   "execution_count": null,
   "metadata": {},
   "outputs": [],
   "source": [
    "# More plots\n"
   ]
  }
 ],
 "metadata": {
  "kernelspec": {
   "display_name": "Python 3",
   "language": "python",
   "name": "python3"
  },
  "language_info": {
   "codemirror_mode": {
    "name": "ipython",
    "version": 3
   },
   "file_extension": ".py",
   "mimetype": "text/x-python",
   "name": "python",
   "nbconvert_exporter": "python",
   "pygments_lexer": "ipython3",
   "version": "3.7.4"
  }
 },
 "nbformat": 4,
 "nbformat_minor": 4
}
