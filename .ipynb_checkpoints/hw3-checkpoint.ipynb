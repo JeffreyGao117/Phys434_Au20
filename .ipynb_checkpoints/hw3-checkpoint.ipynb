{
 "cells": [
  {
   "cell_type": "markdown",
   "metadata": {},
   "source": [
    "# Homework 3\n",
    "## Problem 1\n",
    "\n",
    "__1A)__ \n",
    "Overall, looking at both bird and human categorizations, algorithm 1 makes fewer mistakes with 8% while algorithm 2 has a misidentification rate of 12%.\n",
    "\n",
    "__1B)__ \n",
    "Given the preference to identify birds correctly as much as possible, algorithm 2 would be better with a lower misidentification rate of birds $\\frac{1}{48}$ while algorithm 1 has a rate of $\\frac{3}{48}$\n",
    "\n",
    "__1C)__ \n",
    "\n",
    "Algorithm 1\n",
    "    \n",
    "|           | True Bird | True Person |\n",
    "|-----------|-----------|-------------|\n",
    "| NN Bird   |     93    |      0      |\n",
    "| NN Person |     6     |      1      |\n",
    "\n",
    "Algorithm 2\n",
    "\n",
    "|           | True Bird | True Person |\n",
    "|-----------|-----------|-------------|\n",
    "| NN Bird   |     97    |      0      |\n",
    "| NN Person |     2     |      1      |"
   ]
  },
  {
   "cell_type": "markdown",
   "metadata": {},
   "source": [
    "## Problem 2\n",
    "__2A)__ Sum of two identical exponential distributions.\n",
    "\n",
    ">Looking at [Wikipedia](https://en.wikipedia.org/wiki/Exponential_distribution#Sum_of_two_independent_exponential_random_variables), we can find the sum of two exponential variables $f_{X_1+X_2}(z) = \\frac{\\lambda_1\\lambda_2}{\\lambda_1-\\lambda_2}(e^{-\\lambda_1z}-e^{-\\lambda_2z})$ stating that \"probability distribution function (PDF) of a sum of two independent random variables is the convolution of their individual PDFs\" which aligns with the numerical approach from Lab 2.\n",
    "\n",
    "__2B)__ Pdf of the ratio of two zero-mean unity variance normal distributions $X_1/X_2$.\n",
    "\n",
    "- zero-mean: $\\mu = 0$\n",
    "- unity variance: variance = 1 --> sigma = 1\n",
    "\n",
    "From [Wolfram](https://mathworld.wolfram.com/NormalDistribution.html) we know the pdf of zero-mean unity variance normal distribution to be $P_1(x) = \\frac{1}{\\sqrt{2\\pi}}e^{-x_1^2/2}$. Thus, a ratio of the two distributions will give $P_{1,2} = e^{(x_2^2-x_1^2)/2}$\n",
    "\n",
    "__2C)__ 2D Guassian given by $X\\hat{i}+Y\\hat{j}$ where both $X$ and $Y$ are drawn from 1D Gaussian distributions. Pdf from measuring the amplitude of this vector.\n"
   ]
  }
 ],
 "metadata": {
  "kernelspec": {
   "display_name": "Python 3",
   "language": "python",
   "name": "python3"
  },
  "language_info": {
   "codemirror_mode": {
    "name": "ipython",
    "version": 3
   },
   "file_extension": ".py",
   "mimetype": "text/x-python",
   "name": "python",
   "nbconvert_exporter": "python",
   "pygments_lexer": "ipython3",
   "version": "3.7.4"
  }
 },
 "nbformat": 4,
 "nbformat_minor": 4
}
