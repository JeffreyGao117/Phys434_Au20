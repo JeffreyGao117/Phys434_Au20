{
 "cells": [
  {
   "cell_type": "markdown",
   "metadata": {},
   "source": [
    "# Lab 6 - LHC\n",
    "## Problem 1"
   ]
  },
  {
   "cell_type": "code",
   "execution_count": 30,
   "metadata": {},
   "outputs": [
    {
     "name": "stdout",
     "output_type": "stream",
     "text": [
      "Prob:  3.261456366720447e-36\n"
     ]
    }
   ],
   "source": [
    "import matplotlib.pyplot as plt\n",
    "import numpy as np\n",
    "from scipy import stats\n",
    "\n",
    "bkgd = stats.poisson.rvs(100, size =1000000)\n",
    "print('Prob: ', stats.poisson.cdf(5, 100))"
   ]
  },
  {
   "cell_type": "markdown",
   "metadata": {},
   "source": [
    "## Problem 2"
   ]
  },
  {
   "cell_type": "code",
   "execution_count": 84,
   "metadata": {},
   "outputs": [
    {
     "name": "stdout",
     "output_type": "stream",
     "text": [
      "249.91839858876352\n"
     ]
    },
    {
     "data": {
      "image/png": "[encoded data removed]",
      "text/plain": [
       "<Figure size 432x288 with 1 Axes>"
      ]
     },
     "metadata": {
      "needs_background": "light"
     },
     "output_type": "display_data"
    }
   ],
   "source": [
    "# Inject a signal\n",
    "\n",
    "# 1D Hist ###############################\n",
    "signal = 1000 * [100 + 15 * np.std(bkgd)]  # +15 std-dev signal, 100 points\n",
    "print(signal[0])\n",
    "data = np.append(bkgd, signal)\n",
    "plt.hist(data, bins = 49)\n",
    "plt.show()\n",
    "\n",
    "# 2D Hist ###############################\n",
    "# signal = 100 + 15 * np.std(bkgd)\n",
    "# print(signal)\n",
    "# sig_array = 1000000 * [signal]\n",
    "# data = bkgd + sig_array\n",
    "# plt.hist2d(data, sig_array, bins = 49)\n",
    "# plt.show()"
   ]
  },
  {
   "cell_type": "markdown",
   "metadata": {},
   "source": [
    "__A)__ The histogram appears to be Guassian with a mean of 100 plus several standard deviation signals. The observed signal does appear noticeable. The histogram is telling us the probability of finding a signal in a given background. In this case, the probability would only exist with a signal between 249.8 and 250. \n",
    "\n",
    "__B)__ The observed signal is biased because of its frequency and likely to be stronger than the true signal given the high sigma. The signal is symmetric.\n",
    "\n",
    "## Problem 3"
   ]
  },
  {
   "cell_type": "code",
   "execution_count": 79,
   "metadata": {},
   "outputs": [
    {
     "data": {
      "image/png": "[encoded data removed]",
      "text/plain": [
       "<Figure size 432x288 with 1 Axes>"
      ]
     },
     "metadata": {
      "needs_background": "light"
     },
     "output_type": "display_data"
    }
   ],
   "source": [
    "# Suite of signals\n",
    "\n",
    "# Simulating the probability of detecting a signal with a given background\n",
    "\n",
    "signal2 = stats.uniform.rvs(loc=0, scale=(100 + 35 * np.std(bkgd)), size=1000000)\n",
    "data = bkgd + signal2\n",
    "\n",
    "H, x, y = plt.hist2d(data, signal2, bins=49, density=True)\n",
    "plt.xlabel('Observed Data')\n",
    "plt.ylabel('Injected Signal')\n",
    "plt.show()"
   ]
  },
  {
   "cell_type": "code",
   "execution_count": 87,
   "metadata": {},
   "outputs": [
    {
     "name": "stdout",
     "output_type": "stream",
     "text": [
      "210.5525324117425\n"
     ]
    }
   ],
   "source": [
    "# B) Take a slice of 2D hist and compare to 1D hist from Problem 2\n",
    "\n",
    "# C)\n",
    "\n",
    "observed = 100 + 10 * np.std(data)\n",
    "print(observed)\n",
    "\n",
    "plt.hist()"
   ]
  }
 ],
 "metadata": {
  "kernelspec": {
   "display_name": "Python 3",
   "language": "python",
   "name": "python3"
  },
  "language_info": {
   "codemirror_mode": {
    "name": "ipython",
    "version": 3
   },
   "file_extension": ".py",
   "mimetype": "text/x-python",
   "name": "python",
   "nbconvert_exporter": "python",
   "pygments_lexer": "ipython3",
   "version": "3.7.4"
  }
 },
 "nbformat": 4,
 "nbformat_minor": 4
}
