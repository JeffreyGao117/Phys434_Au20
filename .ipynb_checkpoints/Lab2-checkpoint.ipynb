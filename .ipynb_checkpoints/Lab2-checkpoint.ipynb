{
 "cells": [
  {
   "cell_type": "markdown",
   "metadata": {},
   "source": [
    "# Lab 2: Probability, Distributions, and Statistical Questions\n",
    "## Problem 1"
   ]
  },
  {
   "cell_type": "code",
   "execution_count": 95,
   "metadata": {},
   "outputs": [
    {
     "name": "stdout",
     "output_type": "stream",
     "text": [
      "[0.00113 0.00567 0.01655 0.03547 0.06108 0.08867 0.11172 0.12462 0.12487\n",
      " 0.11363 0.09418 0.07127 0.04909 0.03061 0.01714 0.00852 0.00368 0.00132\n",
      " 0.00033]\n",
      "[0.00008 0.00057 0.00239 0.00717 0.01713 0.03435 0.05977 0.09217 0.12798\n",
      " 0.16189 0.18821 0.20246 0.20252 0.18905 0.16506 0.13496 0.10339 0.07417\n",
      " 0.04974 0.03111 0.01806 0.00967 0.00473 0.00209 0.00082 0.00027 0.00007\n",
      " 0.00001]\n",
      "[0.00001 0.00008 0.00042 0.00161 0.00489 0.01241 0.02724 0.05292 0.09251\n",
      " 0.14735 0.21593 0.29333 0.37161 0.44123 0.49292 0.51977 0.51861 0.49057\n",
      " 0.44056 0.37598 0.30509 0.23542 0.17269 0.12033 0.07955 0.0498  0.02945\n",
      " 0.0164  0.00856 0.00416 0.00187 0.00077 0.00028 0.00009 0.00002 0.00001\n",
      " 0.     ]\n",
      "[0.      0.00001 0.00009 0.00041 0.0015  0.00458 0.01207 0.02812 0.05887\n",
      " 0.11222 0.19673 0.31974 0.48489 0.68982 0.92467 1.17222 1.40978 1.61269\n",
      " 1.75854 1.83123 1.82379 1.73929 1.58981 1.39379 1.17257 0.94685 0.73389\n",
      " 0.5459  0.38953 0.26645 0.17455 0.10937 0.06544 0.03731 0.02022 0.01038\n",
      " 0.00503 0.00228 0.00097 0.00038 0.00013 0.00004 0.00001 0.      0.\n",
      " 0.     ]\n",
      "[0.      0.      0.00002 0.00012 0.0005  0.00178 0.00545 0.01477 0.03591\n",
      " 0.07938 0.16126 0.30358 0.53318 0.87851 1.36428 2.0048  2.79709 3.71592\n",
      " 4.71229 5.71657 6.64635 7.41773 7.95786 8.21614 8.17181 7.83623 7.24981\n",
      " 6.47454 5.58373 4.65144 3.7433  2.91024 2.18551 1.58492 1.10947 0.74925\n",
      " 0.48777 0.30583 0.18446 0.10688 0.05939 0.03158 0.01603 0.00774 0.00355\n",
      " 0.00153 0.00062 0.00023 0.00008 0.00003 0.00001 0.      0.      0.\n",
      " 0.     ]\n"
     ]
    },
    {
     "data": {
      "image/png": "[encoded data removed]",
      "text/plain": [
       "<Figure size 1080x360 with 1 Axes>"
      ]
     },
     "metadata": {
      "needs_background": "light"
     },
     "output_type": "display_data"
    }
   ],
   "source": [
    "from scipy import stats, signal\n",
    "import numpy as np\n",
    "import matplotlib.pyplot as plt\n",
    "from ipywidgets import interact\n",
    "\n",
    "fig1, ax1 = plt.subplots(1,1, figsize=(15,5))\n",
    "\n",
    "x = 5  # 1-day average cosmic-ray background\n",
    "y = 6 # average number of gamma-rays emitted by hypothetical source\n",
    "\n",
    "#---- Part A\n",
    "# Background noise is Poisson; how does Poisson change as integrate multiple days\n",
    "\n",
    "xlin = np.arange(stats.poisson.ppf(0.01, x),\n",
    "              stats.poisson.ppf(0.99, x))\n",
    "plots = []\n",
    "out = stats.poisson.pmf(xlin, x)\n",
    "for n in range(1,6):\n",
    "    out = signal.fftconvolve(out, n*poi)\n",
    "    plots.append(out)\n",
    "    print(out)\n",
    "np.set_printoptions(precision=5, suppress=True)\n",
    "# ax1.plot(xlin, stats.poisson.pmf(xlin, x));\n",
    "\n",
    "#---- Part B\n",
    "# sum of pdfs still look like Poisson\n",
    "\n"
   ]
  },
  {
   "cell_type": "markdown",
   "metadata": {},
   "source": [
    "Here we can see that after 5 days, the convolved Poisson distribution still maintains the structure of a Poisson distribution. Mathematically, the number of days is the trial and is only affecting the magnitude/spread of the distribution. The averages and variance are still the same but only scaled by a factor of days."
   ]
  },
  {
   "cell_type": "code",
   "execution_count": 97,
   "metadata": {},
   "outputs": [
    {
     "name": "stdout",
     "output_type": "stream",
     "text": [
      "[array([0.03369, 0.08422, 0.14037, 0.17547, 0.17547, 0.14622, 0.10444,\n",
      "       0.06528, 0.03627, 0.01813]), array([0.00113, 0.00567, 0.01655, 0.03547, 0.06108, 0.08867, 0.11172,\n",
      "       0.12462, 0.12487, 0.11363, 0.09418, 0.07127, 0.04909, 0.03061,\n",
      "       0.01714, 0.00852, 0.00368, 0.00132, 0.00033]), array([0.00004, 0.00029, 0.00119, 0.00358, 0.00856, 0.01718, 0.02988,\n",
      "       0.04608, 0.06399, 0.08094, 0.09411, 0.10123, 0.10126, 0.09452,\n",
      "       0.08253, 0.06748, 0.05169, 0.03708, 0.02487, 0.01555, 0.00903,\n",
      "       0.00484, 0.00237, 0.00105, 0.00041, 0.00014, 0.00004, 0.00001]), array([0.     , 0.00001, 0.00007, 0.00027, 0.00082, 0.00207, 0.00454,\n",
      "       0.00882, 0.01542, 0.02456, 0.03599, 0.04889, 0.06194, 0.07354,\n",
      "       0.08215, 0.08663, 0.08643, 0.08176, 0.07343, 0.06266, 0.05085,\n",
      "       0.03924, 0.02878, 0.02006, 0.01326, 0.0083 , 0.00491, 0.00273,\n",
      "       0.00143, 0.00069, 0.00031, 0.00013, 0.00005, 0.00002, 0.     ,\n",
      "       0.     , 0.     ]), array([0.     , 0.     , 0.     , 0.00002, 0.00006, 0.00019, 0.0005 ,\n",
      "       0.00117, 0.00245, 0.00468, 0.0082 , 0.01332, 0.0202 , 0.02874,\n",
      "       0.03853, 0.04884, 0.05874, 0.0672 , 0.07327, 0.0763 , 0.07599,\n",
      "       0.07247, 0.06624, 0.05807, 0.04886, 0.03945, 0.03058, 0.02275,\n",
      "       0.01623, 0.0111 , 0.00727, 0.00456, 0.00273, 0.00155, 0.00084,\n",
      "       0.00043, 0.00021, 0.0001 , 0.00004, 0.00002, 0.00001, 0.     ,\n",
      "       0.     , 0.     , 0.     , 0.     ])]\n",
      "4.551914400963142e-15\n",
      "-7.751185907593501\n"
     ]
    }
   ],
   "source": [
    "#---- Part C\n",
    "\n",
    "days = []\n",
    "# print(stats.poisson.pmf(xlin, x)) # 1 day\n",
    "for i in range(1,6):\n",
    "    in1 = stats.poisson.pmf(xlin, x)\n",
    "    for j in range(1,i):\n",
    "        # print(\"Days: \", j+1)\n",
    "        in1 = signal.fftconvolve(in1, stats.poisson.pmf(xlin,x))\n",
    "        #  print(signal.fftconvolve(in1, stats.poisson.pmf(xlin,x)))\n",
    "    days.append(in1)\n",
    "print(days)\n",
    "\n",
    "#---- Part D\n",
    "\n",
    "n = 5  # number of days\n",
    "P = 1-stats.poisson.cdf(n*y, x)\n",
    "print(\"Probability: \", P)\n",
    "sig = stats.norm.ppf(P)\n",
    "print(\"\", sig)"
   ]
  },
  {
   "cell_type": "markdown",
   "metadata": {},
   "source": [
    "The central limit theorem...\n",
    "\n",
    "The sigma of the "
   ]
  },
  {
   "cell_type": "markdown",
   "metadata": {},
   "source": [
    "## Problem 2"
   ]
  },
  {
   "cell_type": "code",
   "execution_count": 122,
   "metadata": {},
   "outputs": [
    {
     "name": "stdout",
     "output_type": "stream",
     "text": [
      "[0.14036 0.16852 0.19625 0.22349 0.25016 0.27621 0.30156 0.32618 0.34999\n",
      " 0.37294 0.395   0.4161  0.43622 0.45531 0.47334 0.49028 0.5061  0.52079\n",
      " 0.53432 0.5467  0.55789 0.56791 0.57675 0.58442 0.59092 0.59627 0.60048\n",
      " 0.60356 0.60555 0.60646 0.60633 0.60517 0.60304 0.59996 0.59597 0.5911\n",
      " 0.58541 0.57893 0.57171 0.56379 0.55521 0.54603 0.53628 0.52602 0.51529\n",
      " 0.50414 0.49261 0.48075 0.46859 0.45619 0.44359 0.43082 0.41793 0.40496\n",
      " 0.39193 0.37889 0.36587 0.3529  0.34001 0.32723 0.31458 0.30209 0.28979\n",
      " 0.27768 0.2658  0.25415 0.24276 0.23163 0.22078 0.21022 0.19996 0.19001\n",
      " 0.18036 0.17103 0.16201 0.15332 0.14494 0.13689 0.12915 0.12173 0.11462\n",
      " 0.10782 0.10132 0.09512 0.08921 0.08359 0.07824 0.07317 0.06835 0.0638\n",
      " 0.05948 0.05541 0.05157 0.04794 0.04453 0.04132 0.03831 0.03548 0.03283\n",
      " 0.03035]\n"
     ]
    },
    {
     "data": {
      "image/png": "[encoded data removed]",
      "text/plain": [
       "<Figure size 432x288 with 1 Axes>"
      ]
     },
     "metadata": {
      "needs_background": "light"
     },
     "output_type": "display_data"
    }
   ],
   "source": [
    "#---- Part A\n",
    "# averaging/summing == convolution\n",
    "\n",
    "xlin = np.linspace(stats.rayleigh.ppf(0.01),\n",
    "                stats.rayleigh.ppf(0.99), 100)\n",
    "pdf = stats.rayleigh.pdf(xlin)\n",
    "print(pdf)\n",
    "\n",
    "\n",
    "\n",
    "#---- Part B\n",
    "\n",
    "fig2, ax2 = plt.subplots(1,1)\n",
    "\n",
    "for n in range(1, 2):\n",
    "    ax2.plot(xlin, n*pdf)"
   ]
  },
  {
   "cell_type": "markdown",
   "metadata": {},
   "source": [
    "The shape begins to approach a Gaussian distribution after 10 trials\n",
    "\n",
    "\n",
    "&nbsp;\n",
    "## Problem 3"
   ]
  },
  {
   "cell_type": "code",
   "execution_count": null,
   "metadata": {},
   "outputs": [],
   "source": []
  },
  {
   "cell_type": "markdown",
   "metadata": {},
   "source": [
    "## Problem 4"
   ]
  },
  {
   "cell_type": "code",
   "execution_count": null,
   "metadata": {},
   "outputs": [],
   "source": []
  },
  {
   "cell_type": "markdown",
   "metadata": {},
   "source": []
  }
 ],
 "metadata": {
  "kernelspec": {
   "display_name": "Python 3",
   "language": "python",
   "name": "python3"
  },
  "language_info": {
   "codemirror_mode": {
    "name": "ipython",
    "version": 3
   },
   "file_extension": ".py",
   "mimetype": "text/x-python",
   "name": "python",
   "nbconvert_exporter": "python",
   "pygments_lexer": "ipython3",
   "version": "3.7.4"
  }
 },
 "nbformat": 4,
 "nbformat_minor": 4
}
