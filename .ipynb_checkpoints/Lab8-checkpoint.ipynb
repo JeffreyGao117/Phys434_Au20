{
 "cells": [
  {
   "cell_type": "code",
   "execution_count": 35,
   "metadata": {},
   "outputs": [
    {
     "name": "stdout",
     "output_type": "stream",
     "text": [
      "(4,)\n",
      "['axis0' 'axis1' 'block0_items' 'block0_values']\n",
      "axis0\n"
     ]
    }
   ],
   "source": [
    "import h5py\n",
    "import numpy as np\n",
    "\n",
    "hf = h5py.File('data_lowLumi_pt_1000_1200.h5', 'r')\n",
    "data = np.array(hf.get('data'))\n",
    "print(data.shape)\n",
    "print(data)\n",
    "print(data[0])"
   ]
  },
  {
   "cell_type": "markdown",
   "metadata": {},
   "source": [
    "Lab 8. Pseudo-experiment data analysis Using your optimized event selection, hunt for your signal by using one of the pseduo-experiment dataset. For each task below, you will choose one of the observed data from your specific pT sample to perform the analysis.\n",
    "\n",
    "High luminosity data\n",
    "Focus on each feature of your event selection.\n",
    "Plot observed data, overlap with expected signal and background (normalized to observed yields) without event selection.\n",
    "Plot observed data, overlap with expected signal and background (normalized to observed yields) with optimal event selection.\n",
    "Evaluate observed significance and compare your results to expectation\n",
    "Low luminosity data\n",
    "Focus on each feature of your event selection.\n",
    "Plot observed data, overlap with expected signal and background (normalized to observed yields) without event selection.\n",
    "Plot observed data, overlap with expected signal and background (normalized to observed yields) with optimal event selection.\n",
    "Evaluate observed significance and compare your results to expectation\n",
    "95% Confidence Level of signal yields\n",
    "\n",
    "In the low luminosity data, the observed significance is less than 5 σ . We will calculate the 95% confidence level upper limit of signal yield.\n",
    "Evaluate the expected 95% confidence level upper limit\n",
    "Evaluate the observed 95% confidence level upper limit\n",
    "Compare expectation to observation. Comment on your finding.\n",
    "Bonus:\n",
    "\n",
    "Evalute the 1 σ  uncertainty of the expected 95% confidence level upper limit."
   ]
  }
 ],
 "metadata": {
  "kernelspec": {
   "display_name": "Python 3",
   "language": "python",
   "name": "python3"
  },
  "language_info": {
   "codemirror_mode": {
    "name": "ipython",
    "version": 3
   },
   "file_extension": ".py",
   "mimetype": "text/x-python",
   "name": "python",
   "nbconvert_exporter": "python",
   "pygments_lexer": "ipython3",
   "version": "3.7.4"
  }
 },
 "nbformat": 4,
 "nbformat_minor": 4
}
