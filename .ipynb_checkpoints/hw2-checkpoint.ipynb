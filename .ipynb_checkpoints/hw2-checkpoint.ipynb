{
 "cells": [
  {
   "cell_type": "markdown",
   "metadata": {},
   "source": [
    "#### 1) A little introductory brain teaser. Which is more probable when rolling 2 six-sided dice: rolling snake eyes (two ones) or rolling sevens (dice sum to seven)? What is the ratio of the probabilities?\n",
    "\n",
    "Knowing that there are multiple possibilities of getting a sum of seven, the probability of rolling two ones will be much less.\n",
    "\n",
    "Probability of rolling two ones: $\\frac{1}{6}*\\frac{1}{6}=\\frac{1}{36}$\n",
    "\n",
    "Probability of rolling a sum of seven: $\\frac{6}{36}$\n",
    "    \n",
    "    Possibilities: (1,6) (2,5) (3,4) (4,3) (5,2) (6,1)\n",
    "\n",
    "Ratio of probabilites: $\\frac{\\frac{1}{36}}{\\frac{6}{36}}=\\frac{1}{6}$"
   ]
  },
  {
   "cell_type": "markdown",
   "metadata": {},
   "source": [
    "&nbsp;\n",
    "#### 2) Following what we did in class show how to use the convolution operator to determine the probability of the sum of 2 six sided dice. Do both analytically (math & counting) and numerically (computer program). Beware the implicit definition of the values (x-axis on histogram)."
   ]
  },
  {
   "cell_type": "code",
   "execution_count": 8,
   "metadata": {},
   "outputs": [
    {
     "data": {
      "application/vnd.jupyter.widget-view+json": {
       "model_id": "04e6e8dc24b74cf0bbc1b93ad8120f26",
       "version_major": 2,
       "version_minor": 0
      },
      "text/plain": [
       "interactive(children=(IntSlider(value=7, description='sum', max=12, min=2), Output()), _dom_classes=('widget-i…"
      ]
     },
     "metadata": {},
     "output_type": "display_data"
    },
    {
     "name": "stdout",
     "output_type": "stream",
     "text": [
      "Numerical Probabilities:  [0.02777778 0.05555556 0.08333333 0.11111111 0.13888889 0.16666667\n",
      " 0.13888889 0.11111111 0.08333333 0.05555556 0.02777778]\n"
     ]
    }
   ],
   "source": [
    "from scipy import stats, signal\n",
    "import numpy as np\n",
    "import matplotlib.pyplot as plt\n",
    "from ipywidgets import interact\n",
    "\n",
    "#---- Analytically\n",
    "\n",
    "def roll(sum):\n",
    "    p = 0\n",
    "    for i in range(1,7):\n",
    "        for j in range(1,7):\n",
    "            if (i+j==sum):\n",
    "                p += 1\n",
    "    print(\"Analytical Probabilities: \", p/36)\n",
    "interact(roll, sum=(2,12))\n",
    "\n",
    "#---- Numerically\n",
    "\n",
    "in1 = [1/6,1/6,1/6,1/6,1/6,1/6]\n",
    "in2 = [1/6,1/6,1/6,1/6,1/6,1/6]\n",
    "out = signal.fftconvolve(in1, in2)\n",
    "print(\"Numerical Probabilities: \", out)"
   ]
  },
  {
   "cell_type": "markdown",
   "metadata": {},
   "source": [
    "&nbsp;\n",
    "#### 3) Calculate the mean and the variance of the distribution in problem 2. Hint: this is surprisingly tricky, make sure your result makes sense.\n"
   ]
  },
  {
   "cell_type": "code",
   "execution_count": 14,
   "metadata": {},
   "outputs": [
    {
     "name": "stdout",
     "output_type": "stream",
     "text": [
      "\n",
      "Mean:  0.0909090909090909\n",
      "Variance:  0.001976839098051217\n"
     ]
    }
   ],
   "source": [
    "#---- mean\n",
    "\n",
    "print(\"\\nMean: \", np.mean(out))\n",
    "\n",
    "#---- variance\n",
    "\n",
    "print(\"Variance: \", np.var(out))"
   ]
  },
  {
   "cell_type": "markdown",
   "metadata": {},
   "source": [
    "&nbsp;\n",
    "#### 4) Repeat 2, and graph the average of 10 dice. Is this is a Gaussian distribution? Explain in depth."
   ]
  },
  {
   "cell_type": "code",
   "execution_count": 20,
   "metadata": {},
   "outputs": [
    {
     "data": {
      "image/png": "[encoded data removed]",
      "text/plain": [
       "<Figure size 432x288 with 1 Axes>"
      ]
     },
     "metadata": {
      "needs_background": "light"
     },
     "output_type": "display_data"
    }
   ],
   "source": [
    "fig1, ax1 = plt.subplots(1,1)\n",
    "\n",
    "out = signal.fftconvolve(in1, in2)\n",
    "for n in range(1,10):\n",
    "    out = signal.fftconvolve(out, in2)\n",
    "    \n",
    "ax1.hist(np.ones_like(out), bins=len(out), weights=out);"
   ]
  },
  {
   "cell_type": "markdown",
   "metadata": {},
   "source": [
    "&nbsp;\n",
    "#### 5) Show that the sum and average of an initially Gaussian distribution is also a Guassian (can be analytic or numerical). How does the standard deviation of the resulting sum or average Guassian change? This is a hugely important result. Explore what this means for integrating a signal over time."
   ]
  },
  {
   "cell_type": "code",
   "execution_count": null,
   "metadata": {},
   "outputs": [],
   "source": []
  }
 ],
 "metadata": {
  "kernelspec": {
   "display_name": "Python 3",
   "language": "python",
   "name": "python3"
  },
  "language_info": {
   "codemirror_mode": {
    "name": "ipython",
    "version": 3
   },
   "file_extension": ".py",
   "mimetype": "text/x-python",
   "name": "python",
   "nbconvert_exporter": "python",
   "pygments_lexer": "ipython3",
   "version": "3.7.4"
  }
 },
 "nbformat": 4,
 "nbformat_minor": 4
}
