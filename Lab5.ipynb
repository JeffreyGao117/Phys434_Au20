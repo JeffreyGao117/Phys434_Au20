{
 "cells": [
  {
   "cell_type": "markdown",
   "metadata": {},
   "source": [
    "# Lab 5\n",
    "\n",
    "- Do all features provide discrimination power between signal and background?\n",
    "- Are there correlations among these features?\n",
    "- Compute expected discovery sensitivity by normalizing each sample appropriately.\n",
    "- Develop a plan to optimize the discovery sensitivity by applying selections to these features.\n",
    "\n",
    "Pickle files: training sample and normalization\n",
    "\n",
    "HDF5 files: pseduo-experiments\n",
    "\n",
    "Each sample contains 14 features(only high level jet information): ‘pt', 'eta', 'phi', 'mass', 'ee2', 'ee3', 'd2', 'angularity', 't1', 't2', 't3', 't21', 't32', 'KtDeltaR'"
   ]
  },
  {
   "cell_type": "code",
   "execution_count": 33,
   "metadata": {},
   "outputs": [
    {
     "name": "stdout",
     "output_type": "stream",
     "text": [
      "272.01088105661836 3.244342529835572\n",
      "139.7944080424717 6.481473283811561\n",
      "245.4131462450914 2.6347878568119545\n",
      "89.97591625467423 13.389844946183699\n",
      "85.89395606420216 11.342156212232954\n",
      "298.82680391098984 2.525105538419591\n",
      "120.11684917359369 3.0180758748270313\n",
      "144.69776811306357 7.180292494621935\n",
      "99.67094594080851 7.004058591448358\n",
      "246.64401978773606 1.2917788826098395\n"
     ]
    }
   ],
   "source": [
    "import pickle\n",
    "\n",
    "# open the file of interest, and use pickle loading\n",
    "infile = open(\"qcd_100000_pt_1000_1200.pkl\",'rb')\n",
    "new_dict = pickle.load(infile)\n",
    "\n",
    "# list all keys of the files\n",
    "new_dict.keys()\n",
    "\n",
    "# # Print two variables, mass and d2, of the first 10 jets\n",
    "for i in range(10):\n",
    "    print(new_dict['mass'][i],new_dict['d2'][i])"
   ]
  },
  {
   "cell_type": "markdown",
   "metadata": {},
   "source": [
    "# Background\n",
    "Goal: create simple 'analysis' optimizing the selection of signal while minimizing background.\n",
    "\n",
    "Looking for standard model Higgs boson in pp collisions at √s = 13 TeV. The Higgs bosons are produced with large transverse momentum (pT) and decaying to a bottom quark-antiquark pair. With simulated set of LHC events:\n",
    "- signal: Higgs decay to bb, forming jets\n",
    "- background: generic QCD processes resulting in jets\n",
    "\n",
    "Mass of Higgs boson $m_h = 125.09\\pm 0.3$ GeV. This means we need to collide 1 billion protons to produce a Higgs. At 13 TeV, the total cross section for pp → h production is closer to 40 pb, but this estimate is not bad. Sensitivity: assuming Higgs boson exists, what kind of probability would I expect to record? Want high sensitivity so as to see something above signal.\n",
    "\n",
    "[Article one](https://arxiv.org/pdf/1709.04533.pdf)\n",
    "\n",
    "[Article two](https://arxiv.org/abs/1201.0008)\n",
    "\n",
    "ATLAS is a general purpose detector for proton-proton collisions.\n",
    "- Pseudorapidity η is a geometric quantity(equal to 1 when perpendicular to z-axis). It is a function of polar angle θ that goes from inf to −inf as θ goes from 0 to π. Azimuthal angle ϕ goes around the beam. \n",
    "- A boosted object refers to a particle that travels at high speed.\n",
    "\n",
    "Standard model particles:\n",
    "\n",
    "<img src=\"./images/standard_model.jpg\" width=\"600\"/>\n",
    "\n",
    "## Jet\n",
    "\n",
    "Group of particles that travel in the same direction. Easiest to define with a cone of $R = \\sqrt{(\\Delta\\eta)^2 + (\\Delta\\phi)^2}$ around a particle and include particles in cone as a jet. After jets are found, multiple purpose; one of which relies on jet’s 4-momentum, defined as the sum of the 4-momenta of all the particles in the jet. Used to approximate the momentum of a primordial parton. Now we want to see jet substructure; with increased angular resolution one can approach a complete classification of all the particles in the jet, rather than\n",
    "just the aggregate energy in a region. Also for helpful for general particle searches.\n",
    "\n",
    "Iterative clustering:\n",
    "1. Calculate the pairwise distance dij between every pair of objects.\n",
    "2. Merge the two closest particles.\n",
    "3. Repeat until no two particles are closer than some given R.\n",
    "Result in n jets of size R.\n",
    "\n",
    "JADE algorithm: $d_{ij} = m_{ij}/Q^2$, where $m_{ij}$ is the invariant mass of the two objects."
   ]
  }
 ],
 "metadata": {
  "kernelspec": {
   "display_name": "Python 3",
   "language": "python",
   "name": "python3"
  },
  "language_info": {
   "codemirror_mode": {
    "name": "ipython",
    "version": 3
   },
   "file_extension": ".py",
   "mimetype": "text/x-python",
   "name": "python",
   "nbconvert_exporter": "python",
   "pygments_lexer": "ipython3",
   "version": "3.7.4"
  }
 },
 "nbformat": 4,
 "nbformat_minor": 4
}
